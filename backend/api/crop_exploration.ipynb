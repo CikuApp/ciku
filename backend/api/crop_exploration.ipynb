{
 "cells": [
  {
   "cell_type": "code",
   "execution_count": 1,
   "metadata": {
    "tags": []
   },
   "outputs": [],
   "source": [
    "import pandas as pd\n",
    "import numpy as np"
   ]
  },
  {
   "cell_type": "code",
   "execution_count": 5,
   "metadata": {},
   "outputs": [],
   "source": [
    "week_df = pd.read_json('../data/crop_production/weeklyProd2015-2020.json')\n",
    "year_df = pd.read_json('../data/crop_production/yearlyProd2015-2020.json')"
   ]
  },
  {
   "cell_type": "code",
   "execution_count": 6,
   "metadata": {},
   "outputs": [
    {
     "output_type": "execute_result",
     "data": {
      "text/plain": "  Program  Year    Period Week Ending Geo Level     State  State ANSI  \\\n0  SURVEY  2020  WEEK #11  2020-03-15     STATE  ARKANSAS           5   \n1  SURVEY  2020  WEEK #11  2020-03-15     STATE  ARKANSAS           5   \n2  SURVEY  2020  WEEK #11  2020-03-15     STATE  ARKANSAS           5   \n3  SURVEY  2020  WEEK #11  2020-03-15     STATE  ARKANSAS           5   \n4  SURVEY  2020  WEEK #11  2020-03-15     STATE  ARKANSAS           5   \n\n   Ag District  Ag District Code  County  ...  Zip Code  Region  \\\n0          NaN               NaN     NaN  ...       NaN     NaN   \n1          NaN               NaN     NaN  ...       NaN     NaN   \n2          NaN               NaN     NaN  ...       NaN     NaN   \n3          NaN               NaN     NaN  ...       NaN     NaN   \n4          NaN               NaN     NaN  ...       NaN     NaN   \n\n   watershed_code  Watershed         Commodity  \\\n0               0        NaN  VEGETABLE TOTALS   \n1               0        NaN  VEGETABLE TOTALS   \n2               0        NaN  VEGETABLE TOTALS   \n3               0        NaN  VEGETABLE TOTALS   \n4               0        NaN  VEGETABLE TOTALS   \n\n                                           Data Item Domain Domain Category  \\\n0  VEGETABLE TOTALS, IN THE OPEN - CONDITION, MEA...  TOTAL   NOT SPECIFIED   \n1  VEGETABLE TOTALS, IN THE OPEN - CONDITION, MEA...  TOTAL   NOT SPECIFIED   \n2  VEGETABLE TOTALS, IN THE OPEN - CONDITION, MEA...  TOTAL   NOT SPECIFIED   \n3  VEGETABLE TOTALS, IN THE OPEN - CONDITION, MEA...  TOTAL   NOT SPECIFIED   \n4  VEGETABLE TOTALS, IN THE OPEN - CONDITION, MEA...  TOTAL   NOT SPECIFIED   \n\n  Value  CV (%)  \n0     4     NaN  \n1    57     NaN  \n2    31     NaN  \n3     8     NaN  \n4     0     NaN  \n\n[5 rows x 21 columns]",
      "text/html": "<div>\n<style scoped>\n    .dataframe tbody tr th:only-of-type {\n        vertical-align: middle;\n    }\n\n    .dataframe tbody tr th {\n        vertical-align: top;\n    }\n\n    .dataframe thead th {\n        text-align: right;\n    }\n</style>\n<table border=\"1\" class=\"dataframe\">\n  <thead>\n    <tr style=\"text-align: right;\">\n      <th></th>\n      <th>Program</th>\n      <th>Year</th>\n      <th>Period</th>\n      <th>Week Ending</th>\n      <th>Geo Level</th>\n      <th>State</th>\n      <th>State ANSI</th>\n      <th>Ag District</th>\n      <th>Ag District Code</th>\n      <th>County</th>\n      <th>...</th>\n      <th>Zip Code</th>\n      <th>Region</th>\n      <th>watershed_code</th>\n      <th>Watershed</th>\n      <th>Commodity</th>\n      <th>Data Item</th>\n      <th>Domain</th>\n      <th>Domain Category</th>\n      <th>Value</th>\n      <th>CV (%)</th>\n    </tr>\n  </thead>\n  <tbody>\n    <tr>\n      <th>0</th>\n      <td>SURVEY</td>\n      <td>2020</td>\n      <td>WEEK #11</td>\n      <td>2020-03-15</td>\n      <td>STATE</td>\n      <td>ARKANSAS</td>\n      <td>5</td>\n      <td>NaN</td>\n      <td>NaN</td>\n      <td>NaN</td>\n      <td>...</td>\n      <td>NaN</td>\n      <td>NaN</td>\n      <td>0</td>\n      <td>NaN</td>\n      <td>VEGETABLE TOTALS</td>\n      <td>VEGETABLE TOTALS, IN THE OPEN - CONDITION, MEA...</td>\n      <td>TOTAL</td>\n      <td>NOT SPECIFIED</td>\n      <td>4</td>\n      <td>NaN</td>\n    </tr>\n    <tr>\n      <th>1</th>\n      <td>SURVEY</td>\n      <td>2020</td>\n      <td>WEEK #11</td>\n      <td>2020-03-15</td>\n      <td>STATE</td>\n      <td>ARKANSAS</td>\n      <td>5</td>\n      <td>NaN</td>\n      <td>NaN</td>\n      <td>NaN</td>\n      <td>...</td>\n      <td>NaN</td>\n      <td>NaN</td>\n      <td>0</td>\n      <td>NaN</td>\n      <td>VEGETABLE TOTALS</td>\n      <td>VEGETABLE TOTALS, IN THE OPEN - CONDITION, MEA...</td>\n      <td>TOTAL</td>\n      <td>NOT SPECIFIED</td>\n      <td>57</td>\n      <td>NaN</td>\n    </tr>\n    <tr>\n      <th>2</th>\n      <td>SURVEY</td>\n      <td>2020</td>\n      <td>WEEK #11</td>\n      <td>2020-03-15</td>\n      <td>STATE</td>\n      <td>ARKANSAS</td>\n      <td>5</td>\n      <td>NaN</td>\n      <td>NaN</td>\n      <td>NaN</td>\n      <td>...</td>\n      <td>NaN</td>\n      <td>NaN</td>\n      <td>0</td>\n      <td>NaN</td>\n      <td>VEGETABLE TOTALS</td>\n      <td>VEGETABLE TOTALS, IN THE OPEN - CONDITION, MEA...</td>\n      <td>TOTAL</td>\n      <td>NOT SPECIFIED</td>\n      <td>31</td>\n      <td>NaN</td>\n    </tr>\n    <tr>\n      <th>3</th>\n      <td>SURVEY</td>\n      <td>2020</td>\n      <td>WEEK #11</td>\n      <td>2020-03-15</td>\n      <td>STATE</td>\n      <td>ARKANSAS</td>\n      <td>5</td>\n      <td>NaN</td>\n      <td>NaN</td>\n      <td>NaN</td>\n      <td>...</td>\n      <td>NaN</td>\n      <td>NaN</td>\n      <td>0</td>\n      <td>NaN</td>\n      <td>VEGETABLE TOTALS</td>\n      <td>VEGETABLE TOTALS, IN THE OPEN - CONDITION, MEA...</td>\n      <td>TOTAL</td>\n      <td>NOT SPECIFIED</td>\n      <td>8</td>\n      <td>NaN</td>\n    </tr>\n    <tr>\n      <th>4</th>\n      <td>SURVEY</td>\n      <td>2020</td>\n      <td>WEEK #11</td>\n      <td>2020-03-15</td>\n      <td>STATE</td>\n      <td>ARKANSAS</td>\n      <td>5</td>\n      <td>NaN</td>\n      <td>NaN</td>\n      <td>NaN</td>\n      <td>...</td>\n      <td>NaN</td>\n      <td>NaN</td>\n      <td>0</td>\n      <td>NaN</td>\n      <td>VEGETABLE TOTALS</td>\n      <td>VEGETABLE TOTALS, IN THE OPEN - CONDITION, MEA...</td>\n      <td>TOTAL</td>\n      <td>NOT SPECIFIED</td>\n      <td>0</td>\n      <td>NaN</td>\n    </tr>\n  </tbody>\n</table>\n<p>5 rows × 21 columns</p>\n</div>"
     },
     "metadata": {},
     "execution_count": 6
    }
   ],
   "source": [
    "week_df.head()"
   ]
  },
  {
   "cell_type": "code",
   "execution_count": 7,
   "metadata": {},
   "outputs": [
    {
     "output_type": "execute_result",
     "data": {
      "text/plain": "(49767, 21)"
     },
     "metadata": {},
     "execution_count": 7
    }
   ],
   "source": [
    "week_df.shape"
   ]
  },
  {
   "cell_type": "markdown",
   "metadata": {},
   "source": [
    "## Locality"
   ]
  },
  {
   "cell_type": "code",
   "execution_count": 13,
   "metadata": {},
   "outputs": [
    {
     "output_type": "execute_result",
     "data": {
      "text/plain": "   Year    State   Commodity  \\\n0  2018  ALABAMA    POTATOES   \n1  2018  ALABAMA  SWEET CORN   \n2  2018  ALABAMA    TOMATOES   \n3  2018   ALASKA     LETTUCE   \n4  2018   ALASKA    POTATOES   \n\n                                           Data Item  Value CV (%)  \n0              POTATOES, IRRIGATED - ACRES HARVESTED     33   93.2  \n1            SWEET CORN, IRRIGATED - ACRES HARVESTED    629   73.6  \n2  TOMATOES, IN THE OPEN, IRRIGATED - ACRES HARVE...  1,174   85.5  \n3               LETTUCE, IRRIGATED - ACRES HARVESTED     49   80.7  \n4              POTATOES, IRRIGATED - ACRES HARVESTED    203   68.0  ",
      "text/html": "<div>\n<style scoped>\n    .dataframe tbody tr th:only-of-type {\n        vertical-align: middle;\n    }\n\n    .dataframe tbody tr th {\n        vertical-align: top;\n    }\n\n    .dataframe thead th {\n        text-align: right;\n    }\n</style>\n<table border=\"1\" class=\"dataframe\">\n  <thead>\n    <tr style=\"text-align: right;\">\n      <th></th>\n      <th>Year</th>\n      <th>State</th>\n      <th>Commodity</th>\n      <th>Data Item</th>\n      <th>Value</th>\n      <th>CV (%)</th>\n    </tr>\n  </thead>\n  <tbody>\n    <tr>\n      <th>0</th>\n      <td>2018</td>\n      <td>ALABAMA</td>\n      <td>POTATOES</td>\n      <td>POTATOES, IRRIGATED - ACRES HARVESTED</td>\n      <td>33</td>\n      <td>93.2</td>\n    </tr>\n    <tr>\n      <th>1</th>\n      <td>2018</td>\n      <td>ALABAMA</td>\n      <td>SWEET CORN</td>\n      <td>SWEET CORN, IRRIGATED - ACRES HARVESTED</td>\n      <td>629</td>\n      <td>73.6</td>\n    </tr>\n    <tr>\n      <th>2</th>\n      <td>2018</td>\n      <td>ALABAMA</td>\n      <td>TOMATOES</td>\n      <td>TOMATOES, IN THE OPEN, IRRIGATED - ACRES HARVE...</td>\n      <td>1,174</td>\n      <td>85.5</td>\n    </tr>\n    <tr>\n      <th>3</th>\n      <td>2018</td>\n      <td>ALASKA</td>\n      <td>LETTUCE</td>\n      <td>LETTUCE, IRRIGATED - ACRES HARVESTED</td>\n      <td>49</td>\n      <td>80.7</td>\n    </tr>\n    <tr>\n      <th>4</th>\n      <td>2018</td>\n      <td>ALASKA</td>\n      <td>POTATOES</td>\n      <td>POTATOES, IRRIGATED - ACRES HARVESTED</td>\n      <td>203</td>\n      <td>68.0</td>\n    </tr>\n  </tbody>\n</table>\n</div>"
     },
     "metadata": {},
     "execution_count": 13
    }
   ],
   "source": [
    "year_df.head()"
   ]
  },
  {
   "cell_type": "code",
   "execution_count": 8,
   "metadata": {},
   "outputs": [
    {
     "output_type": "execute_result",
     "data": {
      "text/plain": "(1334, 6)"
     },
     "metadata": {},
     "execution_count": 8
    }
   ],
   "source": [
    "year_df.shape"
   ]
  },
  {
   "cell_type": "code",
   "execution_count": 17,
   "metadata": {},
   "outputs": [],
   "source": [
    "local_df = year_df[year_df['Year'] == 2018]"
   ]
  },
  {
   "cell_type": "code",
   "execution_count": 18,
   "metadata": {},
   "outputs": [],
   "source": [
    "local_df = local_df.drop_duplicates(subset=['State', 'Commodity'], keep='first')"
   ]
  },
  {
   "cell_type": "code",
   "execution_count": 19,
   "metadata": {},
   "outputs": [
    {
     "output_type": "execute_result",
     "data": {
      "text/plain": "   Year    State   Commodity  \\\n0  2018  ALABAMA    POTATOES   \n1  2018  ALABAMA  SWEET CORN   \n2  2018  ALABAMA    TOMATOES   \n3  2018   ALASKA     LETTUCE   \n4  2018   ALASKA    POTATOES   \n\n                                           Data Item  Value CV (%)  \n0              POTATOES, IRRIGATED - ACRES HARVESTED     33   93.2  \n1            SWEET CORN, IRRIGATED - ACRES HARVESTED    629   73.6  \n2  TOMATOES, IN THE OPEN, IRRIGATED - ACRES HARVE...  1,174   85.5  \n3               LETTUCE, IRRIGATED - ACRES HARVESTED     49   80.7  \n4              POTATOES, IRRIGATED - ACRES HARVESTED    203   68.0  ",
      "text/html": "<div>\n<style scoped>\n    .dataframe tbody tr th:only-of-type {\n        vertical-align: middle;\n    }\n\n    .dataframe tbody tr th {\n        vertical-align: top;\n    }\n\n    .dataframe thead th {\n        text-align: right;\n    }\n</style>\n<table border=\"1\" class=\"dataframe\">\n  <thead>\n    <tr style=\"text-align: right;\">\n      <th></th>\n      <th>Year</th>\n      <th>State</th>\n      <th>Commodity</th>\n      <th>Data Item</th>\n      <th>Value</th>\n      <th>CV (%)</th>\n    </tr>\n  </thead>\n  <tbody>\n    <tr>\n      <th>0</th>\n      <td>2018</td>\n      <td>ALABAMA</td>\n      <td>POTATOES</td>\n      <td>POTATOES, IRRIGATED - ACRES HARVESTED</td>\n      <td>33</td>\n      <td>93.2</td>\n    </tr>\n    <tr>\n      <th>1</th>\n      <td>2018</td>\n      <td>ALABAMA</td>\n      <td>SWEET CORN</td>\n      <td>SWEET CORN, IRRIGATED - ACRES HARVESTED</td>\n      <td>629</td>\n      <td>73.6</td>\n    </tr>\n    <tr>\n      <th>2</th>\n      <td>2018</td>\n      <td>ALABAMA</td>\n      <td>TOMATOES</td>\n      <td>TOMATOES, IN THE OPEN, IRRIGATED - ACRES HARVE...</td>\n      <td>1,174</td>\n      <td>85.5</td>\n    </tr>\n    <tr>\n      <th>3</th>\n      <td>2018</td>\n      <td>ALASKA</td>\n      <td>LETTUCE</td>\n      <td>LETTUCE, IRRIGATED - ACRES HARVESTED</td>\n      <td>49</td>\n      <td>80.7</td>\n    </tr>\n    <tr>\n      <th>4</th>\n      <td>2018</td>\n      <td>ALASKA</td>\n      <td>POTATOES</td>\n      <td>POTATOES, IRRIGATED - ACRES HARVESTED</td>\n      <td>203</td>\n      <td>68.0</td>\n    </tr>\n  </tbody>\n</table>\n</div>"
     },
     "metadata": {},
     "execution_count": 19
    }
   ],
   "source": [
    "local_df.head()"
   ]
  },
  {
   "cell_type": "code",
   "execution_count": 22,
   "metadata": {},
   "outputs": [
    {
     "output_type": "execute_result",
     "data": {
      "text/plain": "Year          int64\nState        object\nCommodity    object\nData Item    object\nValue        object\nCV (%)       object\ndtype: object"
     },
     "metadata": {},
     "execution_count": 22
    }
   ],
   "source": [
    "local_df.dtypes"
   ]
  },
  {
   "cell_type": "markdown",
   "metadata": {},
   "source": [
    "Get all total values of each Commodity"
   ]
  },
  {
   "cell_type": "code",
   "execution_count": 21,
   "metadata": {},
   "outputs": [
    {
     "output_type": "execute_result",
     "data": {
      "text/plain": "Commodity\nARTICHOKES                                                    6,900\nASPARAGUS                                      6,0009,5002,1004,100\nBEANS             4,8007,80027,60011,9004502,6002,20018,2002,800...\nBROCCOLI                                              10,900103,000\nCABBAGE             3,30014,2008,9002,9003,70010,1002,8005,0003,300\nCARROTS                                  64,3004,0001,6005,9004,000\nCAULIFLOWER                                             6,10038,800\nCELERY                                                  28,3001,900\nCUCUMBERS         5,9008,100 (D)24,9009,40034,4002,6009,6001,900...\nGARLIC                                                       29,900\nLETTUCE           4944,36326198,895332825,6201432818999422575553...\nMELONS            16,30031,5003,800 (D) (D)1,7003,500 (D)1,2007,...\nONIONS            41,0002,60010,8008,4007,1007,50019,30011,00021...\nPEAS                             4,00045,8006,70018,90032,40023,300\nPEPPERS           1,10013,50011,9003,2002,0003,4007,9001,4002,00...\nPOTATOES          332033,109525,44246,5794 (D)4,60811317296,665 ...\nPUMPKINS          4,90011,0005,5005,4001,4001,7005,7002,3003,700...\nSPINACH                         11,10044,200 (D) (D)2,0001,3502,800\nSQUASH            6,700 (D) (D)8,7003,5004,9003,5004,30011,7001,500\nSWEET CORN        6291161819,1663,0509210,18420,61023,965 (D)3,1...\nSWEET POTATOES                   4,80021,0005,8008,30026,00078,5000\nTOMATOES          1,17422170240,73410473521,795141 (D)491572,427...\nName: Value, dtype: object"
     },
     "metadata": {},
     "execution_count": 21
    }
   ],
   "source": [
    "local_df.groupby('Commodity')['Value'].sum()"
   ]
  },
  {
   "cell_type": "markdown",
   "metadata": {},
   "source": [
    "NOTE: This is where I give up and just scrape from somewhere online"
   ]
  },
  {
   "cell_type": "code",
   "execution_count": null,
   "metadata": {},
   "outputs": [],
   "source": []
  }
 ],
 "metadata": {
  "language_info": {
   "codemirror_mode": {
    "name": "ipython",
    "version": 3
   },
   "file_extension": ".py",
   "mimetype": "text/x-python",
   "name": "python",
   "nbconvert_exporter": "python",
   "pygments_lexer": "ipython3",
   "version": "3.7.6-final"
  },
  "orig_nbformat": 2,
  "kernelspec": {
   "name": "python37664bitbaseconda66ad337704e04e7290b604b07f248736",
   "display_name": "Python 3.7.6 64-bit ('base': conda)"
  }
 },
 "nbformat": 4,
 "nbformat_minor": 2
}