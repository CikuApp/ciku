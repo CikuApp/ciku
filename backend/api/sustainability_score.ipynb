{
 "cells": [
  {
   "cell_type": "code",
   "execution_count": 3,
   "metadata": {},
   "outputs": [],
   "source": [
    "import pandas as pd\n",
    "import numpy as np\n",
    "import json\n",
    "from ast import literal_eval\n",
    "from datetime import datetime\n"
   ]
  },
  {
   "cell_type": "code",
   "execution_count": 27,
   "metadata": {},
   "outputs": [],
   "source": [
    "df = pd.read_csv('../data/recipes/RAW_recipes.csv')\n",
    "df = df.dropna()\n",
    "df['tags'] = df['tags'].apply(lambda x: literal_eval(str(x)))\n",
    "df['ingredients'] = df['ingredients'].apply(lambda x: literal_eval(str(x)))\n",
    "df['steps'] = df['steps'].apply(lambda x: literal_eval(str(x)))\n",
    "\n",
    "season_df = pd.read_csv('../data/seasonality.csv')\n",
    "season_df['foods'] = season_df['foods'].apply(lambda x: literal_eval(str(x)))"
   ]
  },
  {
   "cell_type": "code",
   "execution_count": 30,
   "metadata": {},
   "outputs": [],
   "source": [
    "now = datetime.now()\n",
    "month_array = ['january', 'february', 'march', 'april', 'may', 'june', 'july',\\\n",
    "       'august', 'september', 'october', 'november', 'december']\n",
    "\n",
    "month = month_array[now.month-1]\n",
    "period = 'early' if now.day <= 15 else 'late'"
   ]
  },
  {
   "cell_type": "code",
   "execution_count": 31,
   "metadata": {},
   "outputs": [],
   "source": [
    "seasonal_and_local = season_df.query('month==\"{}\" & period==\"{}\"'.format(month, period))\n"
   ]
  },
  {
   "cell_type": "code",
   "execution_count": 32,
   "metadata": {},
   "outputs": [
    {
     "output_type": "execute_result",
     "data": {
      "text/plain": "          state  month period  \\\n7        alaska  april   late   \n31      alabama  april   late   \n55     arkansas  april   late   \n79      arizona  april   late   \n103  california  april   late   \n\n                                                 foods  \n7    [Chives, Mushrooms, Rosemary, Sage, Sprouts, T...  \n31   [Arugula, Asparagus, Beets, Bok Choy, Cabbage,...  \n55   [Arugula, Asparagus, Beets, Black Eyed Peas, C...  \n79   [Arugula, Asparagus, Cabbage, Carrots, Caulifl...  \n103  [Artichokes, Arugula, Asparagus, Avocados, Bee...  ",
      "text/html": "<div>\n<style scoped>\n    .dataframe tbody tr th:only-of-type {\n        vertical-align: middle;\n    }\n\n    .dataframe tbody tr th {\n        vertical-align: top;\n    }\n\n    .dataframe thead th {\n        text-align: right;\n    }\n</style>\n<table border=\"1\" class=\"dataframe\">\n  <thead>\n    <tr style=\"text-align: right;\">\n      <th></th>\n      <th>state</th>\n      <th>month</th>\n      <th>period</th>\n      <th>foods</th>\n    </tr>\n  </thead>\n  <tbody>\n    <tr>\n      <th>7</th>\n      <td>alaska</td>\n      <td>april</td>\n      <td>late</td>\n      <td>[Chives, Mushrooms, Rosemary, Sage, Sprouts, T...</td>\n    </tr>\n    <tr>\n      <th>31</th>\n      <td>alabama</td>\n      <td>april</td>\n      <td>late</td>\n      <td>[Arugula, Asparagus, Beets, Bok Choy, Cabbage,...</td>\n    </tr>\n    <tr>\n      <th>55</th>\n      <td>arkansas</td>\n      <td>april</td>\n      <td>late</td>\n      <td>[Arugula, Asparagus, Beets, Black Eyed Peas, C...</td>\n    </tr>\n    <tr>\n      <th>79</th>\n      <td>arizona</td>\n      <td>april</td>\n      <td>late</td>\n      <td>[Arugula, Asparagus, Cabbage, Carrots, Caulifl...</td>\n    </tr>\n    <tr>\n      <th>103</th>\n      <td>california</td>\n      <td>april</td>\n      <td>late</td>\n      <td>[Artichokes, Arugula, Asparagus, Avocados, Bee...</td>\n    </tr>\n  </tbody>\n</table>\n</div>"
     },
     "metadata": {},
     "execution_count": 32
    }
   ],
   "source": [
    "seasonal_and_local.head()"
   ]
  },
  {
   "cell_type": "code",
   "execution_count": 60,
   "metadata": {
    "tags": []
   },
   "outputs": [],
   "source": [
    "seasonal_set = set()\n",
    "for food_array in seasonal_and_local.foods:\n",
    "    for food_item in food_array:\n",
    "        curr_word = food_item.lower()\n",
    "        seasonal_set.add(curr_word)\n",
    "\n",
    "selected_state = 'arizona'\n",
    "snl_array = seasonal_and_local.query('state==\"{}\"'.format(selected_state)).iloc[0].foods\n",
    "snl_array = [food.lower() for food in snl_array]"
   ]
  },
  {
   "cell_type": "code",
   "execution_count": 45,
   "metadata": {
    "tags": []
   },
   "outputs": [
    {
     "output_type": "stream",
     "name": "stdout",
     "text": "138 45160\n"
    }
   ],
   "source": [
    "full_food_set = set()\n",
    "count = 0\n",
    "for food_array in season_df.foods:\n",
    "    for food_item in food_array:\n",
    "        curr_word = food_item.lower()\n",
    "        full_food_set.add(curr_word)\n",
    "        count += 1\n",
    "print(len(full_food_set), count)"
   ]
  },
  {
   "cell_type": "markdown",
   "metadata": {},
   "source": [
    "Some notes:\n",
    "- Most foods seem to be seasonal right now (114/138) if we're looking at all states (April 2021)\n",
    "- We might need to think of a weighting for different foods (apples vs brocolli vs oregano) -> herbs may not count as much since it's everywhere\n",
    "- We could also ask an expert for what to look at (how food is transported between states, what to weigh based on how much or where it's produced)\n",
    "- We could do a relative score based on number of ingredients as well"
   ]
  },
  {
   "cell_type": "markdown",
   "metadata": {},
   "source": [
    "## Getting sustainability score for recipes"
   ]
  },
  {
   "cell_type": "code",
   "execution_count": 50,
   "metadata": {},
   "outputs": [],
   "source": [
    "recipes_df = df.iloc[0:25]"
   ]
  },
  {
   "cell_type": "code",
   "execution_count": 52,
   "metadata": {},
   "outputs": [
    {
     "output_type": "execute_result",
     "data": {
      "text/plain": "                                         name      id  minutes  \\\n0  arriba   baked winter squash mexican style  137739       55   \n1            a bit different  breakfast pizza   31490       30   \n2                   all in the kitchen  chili  112140      130   \n3                          alouette  potatoes   59389       45   \n4          amish  tomato ketchup  for canning   44061      190   \n\n   contributor_id   submitted  \\\n0           47892  2005-09-16   \n1           26278  2002-06-17   \n2          196586  2005-02-25   \n3           68585  2003-04-14   \n4           41706  2002-10-25   \n\n                                                tags  \\\n0  [60-minutes-or-less, time-to-make, course, mai...   \n1  [30-minutes-or-less, time-to-make, course, mai...   \n2  [time-to-make, course, preparation, main-dish,...   \n3  [60-minutes-or-less, time-to-make, course, mai...   \n4  [weeknight, time-to-make, course, main-ingredi...   \n\n                                    nutrition  n_steps  \\\n0       [51.5, 0.0, 13.0, 0.0, 2.0, 0.0, 4.0]       11   \n1   [173.4, 18.0, 0.0, 17.0, 22.0, 35.0, 1.0]        9   \n2  [269.8, 22.0, 32.0, 48.0, 39.0, 27.0, 5.0]        6   \n3   [368.1, 17.0, 10.0, 2.0, 14.0, 8.0, 20.0]       11   \n4   [352.9, 1.0, 337.0, 23.0, 3.0, 0.0, 28.0]        5   \n\n                                               steps  \\\n0  [make a choice and proceed with recipe, depend...   \n1  [preheat oven to 425 degrees f, press dough in...   \n2  [brown ground beef in large pot, add chopped o...   \n3  [place potatoes in a large pot of lightly salt...   \n4  [mix all ingredients& boil for 2 1 / 2 hours ,...   \n\n                                         description  \\\n0  autumn is my favorite time of year to cook! th...   \n1  this recipe calls for the crust to be prebaked...   \n2  this modified version of 'mom's' chili was a h...   \n3  this is a super easy, great tasting, make ahea...   \n4  my dh's amish mother raised him on this recipe...   \n\n                                         ingredients  n_ingredients  \n0  [winter squash, mexican seasoning, mixed spice...              7  \n1  [prepared pizza crust, sausage patty, eggs, mi...              6  \n2  [ground beef, yellow onions, diced tomatoes, t...             13  \n3  [spreadable cheese with garlic and herbs, new ...             11  \n4  [tomato juice, apple cider vinegar, sugar, sal...              8  ",
      "text/html": "<div>\n<style scoped>\n    .dataframe tbody tr th:only-of-type {\n        vertical-align: middle;\n    }\n\n    .dataframe tbody tr th {\n        vertical-align: top;\n    }\n\n    .dataframe thead th {\n        text-align: right;\n    }\n</style>\n<table border=\"1\" class=\"dataframe\">\n  <thead>\n    <tr style=\"text-align: right;\">\n      <th></th>\n      <th>name</th>\n      <th>id</th>\n      <th>minutes</th>\n      <th>contributor_id</th>\n      <th>submitted</th>\n      <th>tags</th>\n      <th>nutrition</th>\n      <th>n_steps</th>\n      <th>steps</th>\n      <th>description</th>\n      <th>ingredients</th>\n      <th>n_ingredients</th>\n    </tr>\n  </thead>\n  <tbody>\n    <tr>\n      <th>0</th>\n      <td>arriba   baked winter squash mexican style</td>\n      <td>137739</td>\n      <td>55</td>\n      <td>47892</td>\n      <td>2005-09-16</td>\n      <td>[60-minutes-or-less, time-to-make, course, mai...</td>\n      <td>[51.5, 0.0, 13.0, 0.0, 2.0, 0.0, 4.0]</td>\n      <td>11</td>\n      <td>[make a choice and proceed with recipe, depend...</td>\n      <td>autumn is my favorite time of year to cook! th...</td>\n      <td>[winter squash, mexican seasoning, mixed spice...</td>\n      <td>7</td>\n    </tr>\n    <tr>\n      <th>1</th>\n      <td>a bit different  breakfast pizza</td>\n      <td>31490</td>\n      <td>30</td>\n      <td>26278</td>\n      <td>2002-06-17</td>\n      <td>[30-minutes-or-less, time-to-make, course, mai...</td>\n      <td>[173.4, 18.0, 0.0, 17.0, 22.0, 35.0, 1.0]</td>\n      <td>9</td>\n      <td>[preheat oven to 425 degrees f, press dough in...</td>\n      <td>this recipe calls for the crust to be prebaked...</td>\n      <td>[prepared pizza crust, sausage patty, eggs, mi...</td>\n      <td>6</td>\n    </tr>\n    <tr>\n      <th>2</th>\n      <td>all in the kitchen  chili</td>\n      <td>112140</td>\n      <td>130</td>\n      <td>196586</td>\n      <td>2005-02-25</td>\n      <td>[time-to-make, course, preparation, main-dish,...</td>\n      <td>[269.8, 22.0, 32.0, 48.0, 39.0, 27.0, 5.0]</td>\n      <td>6</td>\n      <td>[brown ground beef in large pot, add chopped o...</td>\n      <td>this modified version of 'mom's' chili was a h...</td>\n      <td>[ground beef, yellow onions, diced tomatoes, t...</td>\n      <td>13</td>\n    </tr>\n    <tr>\n      <th>3</th>\n      <td>alouette  potatoes</td>\n      <td>59389</td>\n      <td>45</td>\n      <td>68585</td>\n      <td>2003-04-14</td>\n      <td>[60-minutes-or-less, time-to-make, course, mai...</td>\n      <td>[368.1, 17.0, 10.0, 2.0, 14.0, 8.0, 20.0]</td>\n      <td>11</td>\n      <td>[place potatoes in a large pot of lightly salt...</td>\n      <td>this is a super easy, great tasting, make ahea...</td>\n      <td>[spreadable cheese with garlic and herbs, new ...</td>\n      <td>11</td>\n    </tr>\n    <tr>\n      <th>4</th>\n      <td>amish  tomato ketchup  for canning</td>\n      <td>44061</td>\n      <td>190</td>\n      <td>41706</td>\n      <td>2002-10-25</td>\n      <td>[weeknight, time-to-make, course, main-ingredi...</td>\n      <td>[352.9, 1.0, 337.0, 23.0, 3.0, 0.0, 28.0]</td>\n      <td>5</td>\n      <td>[mix all ingredients&amp; boil for 2 1 / 2 hours ,...</td>\n      <td>my dh's amish mother raised him on this recipe...</td>\n      <td>[tomato juice, apple cider vinegar, sugar, sal...</td>\n      <td>8</td>\n    </tr>\n  </tbody>\n</table>\n</div>"
     },
     "metadata": {},
     "execution_count": 52
    }
   ],
   "source": [
    "recipes_df.head()"
   ]
  },
  {
   "cell_type": "code",
   "execution_count": 61,
   "metadata": {},
   "outputs": [],
   "source": [
    "def sus_score(row):\n",
    "    seasonal_match = [x for x in row.ingredients if x in seasonal_set]\n",
    "    snl_match = [x for x in row.ingredients if x in snl_array]\n",
    "\n",
    "    row['seasonal'] = seasonal_match\n",
    "    row['snl'] = snl_match\n",
    "    row['sus_score'] = snl_match\n",
    "\n",
    "    # TODO: Fix weightage of foods based on better factors and smarter reasoning...\n",
    "    return row\n",
    "\n",
    "recipes_df = recipes_df.apply(lambda x: sus_score(x), axis=1)"
   ]
  },
  {
   "cell_type": "code",
   "execution_count": null,
   "metadata": {},
   "outputs": [],
   "source": []
  }
 ],
 "metadata": {
  "language_info": {
   "codemirror_mode": {
    "name": "ipython",
    "version": 3
   },
   "file_extension": ".py",
   "mimetype": "text/x-python",
   "name": "python",
   "nbconvert_exporter": "python",
   "pygments_lexer": "ipython3",
   "version": "3.7.6-final"
  },
  "orig_nbformat": 2,
  "kernelspec": {
   "name": "python37664bitbaseconda66ad337704e04e7290b604b07f248736",
   "display_name": "Python 3.7.6 64-bit ('base': conda)"
  }
 },
 "nbformat": 4,
 "nbformat_minor": 2
}