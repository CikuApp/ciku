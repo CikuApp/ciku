{
 "cells": [
  {
   "cell_type": "code",
   "execution_count": 3,
   "metadata": {},
   "outputs": [],
   "source": [
    "import pandas as pd\n",
    "import numpy as np\n",
    "import json\n",
    "from ast import literal_eval\n",
    "from datetime import datetime\n"
   ]
  },
  {
   "cell_type": "code",
   "execution_count": 27,
   "metadata": {},
   "outputs": [],
   "source": [
    "df = pd.read_csv('../data/recipes/RAW_recipes.csv')\n",
    "df = df.dropna()\n",
    "df['tags'] = df['tags'].apply(lambda x: literal_eval(str(x)))\n",
    "df['ingredients'] = df['ingredients'].apply(lambda x: literal_eval(str(x)))\n",
    "df['steps'] = df['steps'].apply(lambda x: literal_eval(str(x)))\n",
    "\n",
    "season_df = pd.read_csv('../data/seasonality.csv')\n",
    "season_df['foods'] = season_df['foods'].apply(lambda x: literal_eval(str(x)))"
   ]
  },
  {
   "cell_type": "code",
   "execution_count": 30,
   "metadata": {},
   "outputs": [],
   "source": [
    "now = datetime.now()\n",
    "month_array = ['january', 'february', 'march', 'april', 'may', 'june', 'july',\\\n",
    "       'august', 'september', 'october', 'november', 'december']\n",
    "\n",
    "month = month_array[now.month-1]\n",
    "period = 'early' if now.day <= 15 else 'late'"
   ]
  },
  {
   "cell_type": "code",
   "execution_count": 31,
   "metadata": {},
   "outputs": [],
   "source": [
    "seasonal_and_local = season_df.query('month==\"{}\" & period==\"{}\"'.format(month, period))\n"
   ]
  },
  {
   "cell_type": "code",
   "execution_count": 32,
   "metadata": {},
   "outputs": [
    {
     "output_type": "execute_result",
     "data": {
      "text/plain": "          state  month period  \\\n7        alaska  april   late   \n31      alabama  april   late   \n55     arkansas  april   late   \n79      arizona  april   late   \n103  california  april   late   \n\n                                                 foods  \n7    [Chives, Mushrooms, Rosemary, Sage, Sprouts, T...  \n31   [Arugula, Asparagus, Beets, Bok Choy, Cabbage,...  \n55   [Arugula, Asparagus, Beets, Black Eyed Peas, C...  \n79   [Arugula, Asparagus, Cabbage, Carrots, Caulifl...  \n103  [Artichokes, Arugula, Asparagus, Avocados, Bee...  ",
      "text/html": "<div>\n<style scoped>\n    .dataframe tbody tr th:only-of-type {\n        vertical-align: middle;\n    }\n\n    .dataframe tbody tr th {\n        vertical-align: top;\n    }\n\n    .dataframe thead th {\n        text-align: right;\n    }\n</style>\n<table border=\"1\" class=\"dataframe\">\n  <thead>\n    <tr style=\"text-align: right;\">\n      <th></th>\n      <th>state</th>\n      <th>month</th>\n      <th>period</th>\n      <th>foods</th>\n    </tr>\n  </thead>\n  <tbody>\n    <tr>\n      <th>7</th>\n      <td>alaska</td>\n      <td>april</td>\n      <td>late</td>\n      <td>[Chives, Mushrooms, Rosemary, Sage, Sprouts, T...</td>\n    </tr>\n    <tr>\n      <th>31</th>\n      <td>alabama</td>\n      <td>april</td>\n      <td>late</td>\n      <td>[Arugula, Asparagus, Beets, Bok Choy, Cabbage,...</td>\n    </tr>\n    <tr>\n      <th>55</th>\n      <td>arkansas</td>\n      <td>april</td>\n      <td>late</td>\n      <td>[Arugula, Asparagus, Beets, Black Eyed Peas, C...</td>\n    </tr>\n    <tr>\n      <th>79</th>\n      <td>arizona</td>\n      <td>april</td>\n      <td>late</td>\n      <td>[Arugula, Asparagus, Cabbage, Carrots, Caulifl...</td>\n    </tr>\n    <tr>\n      <th>103</th>\n      <td>california</td>\n      <td>april</td>\n      <td>late</td>\n      <td>[Artichokes, Arugula, Asparagus, Avocados, Bee...</td>\n    </tr>\n  </tbody>\n</table>\n</div>"
     },
     "metadata": {},
     "execution_count": 32
    }
   ],
   "source": [
    "seasonal_and_local.head()"
   ]
  },
  {
   "cell_type": "code",
   "execution_count": 66,
   "metadata": {
    "tags": []
   },
   "outputs": [],
   "source": [
    "seasonal_set = set()\n",
    "for food_array in seasonal_and_local.foods:\n",
    "    for food_item in food_array:\n",
    "        curr_word = food_item.lower()\n",
    "        seasonal_set.add(curr_word)\n",
    "\n",
    "selected_state = 'arizona'\n",
    "snl_array = seasonal_and_local.query('state==\"{}\"'.format(selected_state)).iloc[0].foods\n",
    "snl_array = [food.lower() for food in snl_array]\n",
    "\n",
    "exclusive_seasonal = [x for x in seasonal_set if x not in snl_array]\n"
   ]
  },
  {
   "cell_type": "code",
   "execution_count": 45,
   "metadata": {
    "tags": []
   },
   "outputs": [
    {
     "output_type": "stream",
     "name": "stdout",
     "text": "138 45160\n"
    }
   ],
   "source": [
    "full_food_set = set()\n",
    "count = 0\n",
    "for food_array in season_df.foods:\n",
    "    for food_item in food_array:\n",
    "        curr_word = food_item.lower()\n",
    "        full_food_set.add(curr_word)\n",
    "        count += 1\n",
    "print(len(full_food_set), count)"
   ]
  },
  {
   "cell_type": "markdown",
   "metadata": {},
   "source": [
    "Some notes:\n",
    "- Most foods seem to be seasonal right now (114/138) if we're looking at all states (April 2021)\n",
    "- We might need to think of a weighting for different foods (apples vs brocolli vs oregano) -> herbs may not count as much since it's everywhere\n",
    "- We could also ask an expert for what to look at (how food is transported between states, what to weigh based on how much or where it's produced)\n",
    "- We could do a relative score based on number of ingredients as well"
   ]
  },
  {
   "cell_type": "markdown",
   "metadata": {},
   "source": [
    "## Getting sustainability score for recipes"
   ]
  },
  {
   "cell_type": "code",
   "execution_count": 50,
   "metadata": {},
   "outputs": [],
   "source": [
    "recipes_df = df.iloc[0:25]"
   ]
  },
  {
   "cell_type": "code",
   "execution_count": 52,
   "metadata": {},
   "outputs": [
    {
     "output_type": "execute_result",
     "data": {
      "text/plain": "                                         name      id  minutes  \\\n0  arriba   baked winter squash mexican style  137739       55   \n1            a bit different  breakfast pizza   31490       30   \n2                   all in the kitchen  chili  112140      130   \n3                          alouette  potatoes   59389       45   \n4          amish  tomato ketchup  for canning   44061      190   \n\n   contributor_id   submitted  \\\n0           47892  2005-09-16   \n1           26278  2002-06-17   \n2          196586  2005-02-25   \n3           68585  2003-04-14   \n4           41706  2002-10-25   \n\n                                                tags  \\\n0  [60-minutes-or-less, time-to-make, course, mai...   \n1  [30-minutes-or-less, time-to-make, course, mai...   \n2  [time-to-make, course, preparation, main-dish,...   \n3  [60-minutes-or-less, time-to-make, course, mai...   \n4  [weeknight, time-to-make, course, main-ingredi...   \n\n                                    nutrition  n_steps  \\\n0       [51.5, 0.0, 13.0, 0.0, 2.0, 0.0, 4.0]       11   \n1   [173.4, 18.0, 0.0, 17.0, 22.0, 35.0, 1.0]        9   \n2  [269.8, 22.0, 32.0, 48.0, 39.0, 27.0, 5.0]        6   \n3   [368.1, 17.0, 10.0, 2.0, 14.0, 8.0, 20.0]       11   \n4   [352.9, 1.0, 337.0, 23.0, 3.0, 0.0, 28.0]        5   \n\n                                               steps  \\\n0  [make a choice and proceed with recipe, depend...   \n1  [preheat oven to 425 degrees f, press dough in...   \n2  [brown ground beef in large pot, add chopped o...   \n3  [place potatoes in a large pot of lightly salt...   \n4  [mix all ingredients& boil for 2 1 / 2 hours ,...   \n\n                                         description  \\\n0  autumn is my favorite time of year to cook! th...   \n1  this recipe calls for the crust to be prebaked...   \n2  this modified version of 'mom's' chili was a h...   \n3  this is a super easy, great tasting, make ahea...   \n4  my dh's amish mother raised him on this recipe...   \n\n                                         ingredients  n_ingredients  \n0  [winter squash, mexican seasoning, mixed spice...              7  \n1  [prepared pizza crust, sausage patty, eggs, mi...              6  \n2  [ground beef, yellow onions, diced tomatoes, t...             13  \n3  [spreadable cheese with garlic and herbs, new ...             11  \n4  [tomato juice, apple cider vinegar, sugar, sal...              8  ",
      "text/html": "<div>\n<style scoped>\n    .dataframe tbody tr th:only-of-type {\n        vertical-align: middle;\n    }\n\n    .dataframe tbody tr th {\n        vertical-align: top;\n    }\n\n    .dataframe thead th {\n        text-align: right;\n    }\n</style>\n<table border=\"1\" class=\"dataframe\">\n  <thead>\n    <tr style=\"text-align: right;\">\n      <th></th>\n      <th>name</th>\n      <th>id</th>\n      <th>minutes</th>\n      <th>contributor_id</th>\n      <th>submitted</th>\n      <th>tags</th>\n      <th>nutrition</th>\n      <th>n_steps</th>\n      <th>steps</th>\n      <th>description</th>\n      <th>ingredients</th>\n      <th>n_ingredients</th>\n    </tr>\n  </thead>\n  <tbody>\n    <tr>\n      <th>0</th>\n      <td>arriba   baked winter squash mexican style</td>\n      <td>137739</td>\n      <td>55</td>\n      <td>47892</td>\n      <td>2005-09-16</td>\n      <td>[60-minutes-or-less, time-to-make, course, mai...</td>\n      <td>[51.5, 0.0, 13.0, 0.0, 2.0, 0.0, 4.0]</td>\n      <td>11</td>\n      <td>[make a choice and proceed with recipe, depend...</td>\n      <td>autumn is my favorite time of year to cook! th...</td>\n      <td>[winter squash, mexican seasoning, mixed spice...</td>\n      <td>7</td>\n    </tr>\n    <tr>\n      <th>1</th>\n      <td>a bit different  breakfast pizza</td>\n      <td>31490</td>\n      <td>30</td>\n      <td>26278</td>\n      <td>2002-06-17</td>\n      <td>[30-minutes-or-less, time-to-make, course, mai...</td>\n      <td>[173.4, 18.0, 0.0, 17.0, 22.0, 35.0, 1.0]</td>\n      <td>9</td>\n      <td>[preheat oven to 425 degrees f, press dough in...</td>\n      <td>this recipe calls for the crust to be prebaked...</td>\n      <td>[prepared pizza crust, sausage patty, eggs, mi...</td>\n      <td>6</td>\n    </tr>\n    <tr>\n      <th>2</th>\n      <td>all in the kitchen  chili</td>\n      <td>112140</td>\n      <td>130</td>\n      <td>196586</td>\n      <td>2005-02-25</td>\n      <td>[time-to-make, course, preparation, main-dish,...</td>\n      <td>[269.8, 22.0, 32.0, 48.0, 39.0, 27.0, 5.0]</td>\n      <td>6</td>\n      <td>[brown ground beef in large pot, add chopped o...</td>\n      <td>this modified version of 'mom's' chili was a h...</td>\n      <td>[ground beef, yellow onions, diced tomatoes, t...</td>\n      <td>13</td>\n    </tr>\n    <tr>\n      <th>3</th>\n      <td>alouette  potatoes</td>\n      <td>59389</td>\n      <td>45</td>\n      <td>68585</td>\n      <td>2003-04-14</td>\n      <td>[60-minutes-or-less, time-to-make, course, mai...</td>\n      <td>[368.1, 17.0, 10.0, 2.0, 14.0, 8.0, 20.0]</td>\n      <td>11</td>\n      <td>[place potatoes in a large pot of lightly salt...</td>\n      <td>this is a super easy, great tasting, make ahea...</td>\n      <td>[spreadable cheese with garlic and herbs, new ...</td>\n      <td>11</td>\n    </tr>\n    <tr>\n      <th>4</th>\n      <td>amish  tomato ketchup  for canning</td>\n      <td>44061</td>\n      <td>190</td>\n      <td>41706</td>\n      <td>2002-10-25</td>\n      <td>[weeknight, time-to-make, course, main-ingredi...</td>\n      <td>[352.9, 1.0, 337.0, 23.0, 3.0, 0.0, 28.0]</td>\n      <td>5</td>\n      <td>[mix all ingredients&amp; boil for 2 1 / 2 hours ,...</td>\n      <td>my dh's amish mother raised him on this recipe...</td>\n      <td>[tomato juice, apple cider vinegar, sugar, sal...</td>\n      <td>8</td>\n    </tr>\n  </tbody>\n</table>\n</div>"
     },
     "metadata": {},
     "execution_count": 52
    }
   ],
   "source": [
    "recipes_df.head()"
   ]
  },
  {
   "cell_type": "code",
   "execution_count": 67,
   "metadata": {},
   "outputs": [],
   "source": [
    "def sus_score(row):\n",
    "    seasonal_match = [x for x in row.ingredients if x in exclusive_seasonal]\n",
    "    snl_match = [x for x in row.ingredients if x in snl_array]\n",
    "\n",
    "    row['seasonal'] = seasonal_match\n",
    "    row['snl'] = snl_match\n",
    "    row['sus_score'] = len(seasonal_match) + (len(snl_match) * 2)\n",
    "\n",
    "    # TODO: Fix weightage of foods based on better factors and smarter reasoning...\n",
    "    return row\n",
    "\n",
    "recipes_df = recipes_df.apply(lambda x: sus_score(x), axis=1)"
   ]
  },
  {
   "cell_type": "code",
   "execution_count": 68,
   "metadata": {},
   "outputs": [
    {
     "output_type": "execute_result",
     "data": {
      "text/plain": "                                          name      id  minutes  \\\n0   arriba   baked winter squash mexican style  137739       55   \n1             a bit different  breakfast pizza   31490       30   \n2                    all in the kitchen  chili  112140      130   \n3                           alouette  potatoes   59389       45   \n4           amish  tomato ketchup  for canning   44061      190   \n6                        aww  marinated olives   25274       15   \n7               backyard style  barbecued ribs   67888      120   \n9                      beat this  banana bread   75452       70   \n10                 berry  good sandwich spread  109439        5   \n11               better than sex  strawberries   42198     1460   \n12             better then bush s  baked beans   67547     2970   \n13                  boat house  collard greens  107517      525   \n14                     calm your nerves  tonic   39959        5   \n15            chicken lickin  good  pork chops   63986      500   \n16                              chile rellenos   43026       45   \n17                              chinese  candy   23933       15   \n18                          chinese  chop suey    8559       70   \n19           cream  of cauliflower soup  vegan   23850      110   \n20                      cream  of spinach soup   76808       45   \n21               cream  of spinach soup  vegan   24701       55   \n22                     crispy crunchy  chicken   83873       35   \n23                  deep fried dessert thingys  107699       20   \n24             easiest ever  hollandaise sauce   49262       25   \n25            emotional balance  spice mixture   48156       10   \n26                 fool the meat eaters  chili   54272       40   \n\n    contributor_id   submitted  \\\n0            47892  2005-09-16   \n1            26278  2002-06-17   \n2           196586  2005-02-25   \n3            68585  2003-04-14   \n4            41706  2002-10-25   \n6            21730  2002-04-14   \n7            10404  2003-07-30   \n9            15892  2003-11-04   \n10           49168  2005-01-25   \n11           41531  2002-10-03   \n12           85627  2003-07-26   \n13          137696  2005-01-03   \n14           37449  2002-09-10   \n15           14664  2003-06-06   \n16           52268  2002-10-14   \n17           35268  2002-03-29   \n18            4481  2001-01-27   \n19            3288  2002-03-28   \n20           95743  2003-11-17   \n21            3288  2002-04-08   \n22          108291  2004-02-13   \n23          158966  2005-01-05   \n24           64428  2002-12-19   \n25            6164  2002-12-09   \n26           40525  2003-02-17   \n\n                                                 tags  \\\n0   [60-minutes-or-less, time-to-make, course, mai...   \n1   [30-minutes-or-less, time-to-make, course, mai...   \n2   [time-to-make, course, preparation, main-dish,...   \n3   [60-minutes-or-less, time-to-make, course, mai...   \n4   [weeknight, time-to-make, course, main-ingredi...   \n6   [15-minutes-or-less, time-to-make, course, mai...   \n7   [weeknight, time-to-make, course, main-ingredi...   \n9   [weeknight, time-to-make, course, main-ingredi...   \n10  [15-minutes-or-less, time-to-make, course, pre...   \n11  [weeknight, time-to-make, course, main-ingredi...   \n12  [weeknight, time-to-make, course, main-ingredi...   \n13  [time-to-make, main-ingredient, preparation, v...   \n14  [15-minutes-or-less, time-to-make, preparation...   \n15  [weeknight, time-to-make, course, main-ingredi...   \n16  [60-minutes-or-less, time-to-make, course, mai...   \n17  [15-minutes-or-less, time-to-make, course, pre...   \n18  [weeknight, time-to-make, course, main-ingredi...   \n19  [lactose, weeknight, time-to-make, course, mai...   \n20  [60-minutes-or-less, time-to-make, course, mai...   \n21  [60-minutes-or-less, time-to-make, course, mai...   \n22  [60-minutes-or-less, time-to-make, course, pre...   \n23  [30-minutes-or-less, time-to-make, course, pre...   \n24  [30-minutes-or-less, time-to-make, course, mai...   \n25  [15-minutes-or-less, time-to-make, course, cui...   \n26  [60-minutes-or-less, time-to-make, course, mai...   \n\n                                            nutrition  n_steps  \\\n0               [51.5, 0.0, 13.0, 0.0, 2.0, 0.0, 4.0]       11   \n1           [173.4, 18.0, 0.0, 17.0, 22.0, 35.0, 1.0]        9   \n2          [269.8, 22.0, 32.0, 48.0, 39.0, 27.0, 5.0]        6   \n3           [368.1, 17.0, 10.0, 2.0, 14.0, 8.0, 20.0]       11   \n4           [352.9, 1.0, 337.0, 23.0, 3.0, 0.0, 28.0]        5   \n6            [380.7, 53.0, 7.0, 24.0, 6.0, 24.0, 6.0]        4   \n7      [1109.5, 83.0, 378.0, 275.0, 96.0, 86.0, 36.0]       10   \n9   [2669.3, 160.0, 976.0, 107.0, 62.0, 310.0, 138.0]       12   \n10              [79.2, 3.0, 58.0, 0.0, 0.0, 6.0, 5.0]        2   \n11      [734.1, 66.0, 199.0, 10.0, 10.0, 117.0, 28.0]        8   \n12       [462.4, 28.0, 214.0, 69.0, 14.0, 29.0, 23.0]        9   \n13           [315.8, 0.0, 202.0, 9.0, 6.0, 0.0, 21.0]        7   \n14                [8.2, 0.0, 0.0, 0.0, 1.0, 0.0, 0.0]        6   \n15             [105.7, 8.0, 0.0, 26.0, 5.0, 4.0, 3.0]        5   \n16           [94.0, 10.0, 0.0, 11.0, 11.0, 21.0, 0.0]        9   \n17           [232.7, 21.0, 77.0, 4.0, 6.0, 38.0, 8.0]        4   \n18         [395.4, 31.0, 20.0, 29.0, 51.0, 33.0, 8.0]        8   \n19           [174.2, 4.0, 24.0, 1.0, 15.0, 1.0, 10.0]       10   \n20           [126.0, 11.0, 2.0, 14.0, 5.0, 23.0, 4.0]        9   \n21             [64.8, 3.0, 13.0, 54.0, 4.0, 2.0, 3.0]       10   \n22         [335.8, 11.0, 2.0, 24.0, 64.0, 10.0, 10.0]        8   \n23    [1663.3, 221.0, 168.0, 66.0, 19.0, 158.0, 29.0]       20   \n24       [1290.4, 213.0, 4.0, 53.0, 22.0, 417.0, 1.0]        7   \n25           [182.7, 11.0, 4.0, 1.0, 13.0, 4.0, 10.0]        2   \n26          [295.6, 3.0, 56.0, 76.0, 32.0, 1.0, 18.0]        9   \n\n                                                steps  \\\n0   [make a choice and proceed with recipe, depend...   \n1   [preheat oven to 425 degrees f, press dough in...   \n2   [brown ground beef in large pot, add chopped o...   \n3   [place potatoes in a large pot of lightly salt...   \n4   [mix all ingredients& boil for 2 1 / 2 hours ,...   \n6   [toast the fennel seeds and lightly crush them...   \n7   [in a medium saucepan combine all the ingredie...   \n9   [preheat oven to 350 degrees, butter two 9x5\" ...   \n10  [in medium size bowl , coarsely mash cranberry...   \n11  [crush vanilla wafers into fine crumbs and lin...   \n12  [in a very large sauce pan cover the beans and...   \n13  [put prepared greens in large pot, add water, ...   \n14  [combine herbs, dosage: one-half teaspoonful m...   \n15  [dredge pork chops in mixture of flour , salt ...   \n16  [drain green chiles, sprinkle cornstarch on sh...   \n17  [melt butterscotch chips in heavy saucepan ove...   \n18  [brown ground meat and onion in a large pot, a...   \n19  [heat the oil or margarine in a soup pot and a...   \n20  [bring water and salt to a boil, cut the potat...   \n21  [in a 3 qt saucepan over medium high heat , sa...   \n22  [combine soup , egg and seasoned salt in a bow...   \n23  [in a large bowl , mix flour , granulated suga...   \n24  [cut the butter into several pieces and bring ...   \n25  [mix the spices together and store in an airti...   \n26  [rehydrate tvp if needed, spray or oil a large...   \n\n                                          description  \\\n0   autumn is my favorite time of year to cook! th...   \n1   this recipe calls for the crust to be prebaked...   \n2   this modified version of 'mom's' chili was a h...   \n3   this is a super easy, great tasting, make ahea...   \n4   my dh's amish mother raised him on this recipe...   \n6   my italian mil was thoroughly impressed by my ...   \n7   this recipe is posted by request and was origi...   \n9                                 from ann hodgman's    \n10  horseradish is one of my favorite condiments a...   \n11  simple but sexy. this was in my local newspape...   \n12  i'd have to say that this is a labor of love d...   \n13  my boss gave me this recipe several years ago....   \n14  this will prove a blessing to everyone who tak...   \n15  here's and old standby i enjoy from time to ti...   \n16  a favorite from a local restaurant no longer i...   \n17  a little different, and oh so good. i include ...   \n18                              easy one-pot dinner.    \n19                              this is a dairy free    \n20  wonderful comfort food from rozanne gold, a fa...   \n21  thickened with a mix of cooked oats and vegies...   \n22  delicious, crunchy fried chicken. this recipe ...   \n23  my mother used to make this for us as a specia...   \n24  the secret to this easy hollandaise sauce is i...   \n25  really an effective spice blend...i got it in ...   \n26  this recipe was adapted by my mother and mysel...   \n\n                                          ingredients  n_ingredients  \\\n0   [winter squash, mexican seasoning, mixed spice...              7   \n1   [prepared pizza crust, sausage patty, eggs, mi...              6   \n2   [ground beef, yellow onions, diced tomatoes, t...             13   \n3   [spreadable cheese with garlic and herbs, new ...             11   \n4   [tomato juice, apple cider vinegar, sugar, sal...              8   \n6   [fennel seeds, green olives, ripe olives, garl...              9   \n7   [pork spareribs, soy sauce, fresh garlic, fres...             22   \n9   [sugar, unsalted butter, bananas, eggs, fresh ...              9   \n10  [whole berry cranberry sauce, sour cream, prep...              3   \n11  [vanilla wafers, butter, powdered sugar, eggs,...              7   \n12  [great northern bean, chicken bouillon cubes, ...             13   \n13  [collard greens, brown sugar, molasses, hot sa...              7   \n14  [gentian root, scullcap herb, burnet root, woo...              5   \n15  [lean pork chops, flour, salt, dry mustard, ga...              7   \n16  [egg roll wrap, whole green chilies, cheese, c...              5   \n17  [butterscotch chips, chinese noodles, salted p...              3   \n18  [celery, onion, ground pork, soy sauce, beef b...              7   \n19  [canola oil, onion, garlic, cauliflower, potat...             16   \n20  [water, salt, boiling potatoes, fresh spinach ...              8   \n21  [onion, scallion, apple juice, olive oil, spin...             12   \n22  [boneless skinless chicken breast halves, cond...             10   \n23  [all-purpose flour, granulated sugar, baking p...             13   \n24  [butter, lemon, juice of, salt, white pepper, ...              5   \n25  [ground black pepper, ground ginger, ground co...              6   \n26  [vegetarian ground beef, garlic, onion, jalape...             12   \n\n    sus_score           seasonal                              snl  \n0           1    [winter squash]                               []  \n1           0                 []                               []  \n2           2                 []                        [lettuce]  \n3           5         [shallots]              [parsley, tarragon]  \n4           0                 []                               []  \n6           2                 []                         [garlic]  \n7           0                 []                               []  \n9           1          [bananas]                               []  \n10          0                 []                               []  \n11          0                 []                               []  \n12          0                 []                               []  \n13          2                 []                 [collard greens]  \n14          0                 []                               []  \n15          0                 []                               []  \n16          0                 []                               []  \n17          0                 []                               []  \n18          1           [celery]                               []  \n19          6                 []  [garlic, cauliflower, potatoes]  \n20          0                 []                               []  \n21          2  [spinach, celery]                               []  \n22          0                 []                               []  \n23          0                 []                               []  \n24          0                 []                               []  \n25          0                 []                               []  \n26          3           [celery]                         [garlic]  ",
      "text/html": "<div>\n<style scoped>\n    .dataframe tbody tr th:only-of-type {\n        vertical-align: middle;\n    }\n\n    .dataframe tbody tr th {\n        vertical-align: top;\n    }\n\n    .dataframe thead th {\n        text-align: right;\n    }\n</style>\n<table border=\"1\" class=\"dataframe\">\n  <thead>\n    <tr style=\"text-align: right;\">\n      <th></th>\n      <th>name</th>\n      <th>id</th>\n      <th>minutes</th>\n      <th>contributor_id</th>\n      <th>submitted</th>\n      <th>tags</th>\n      <th>nutrition</th>\n      <th>n_steps</th>\n      <th>steps</th>\n      <th>description</th>\n      <th>ingredients</th>\n      <th>n_ingredients</th>\n      <th>sus_score</th>\n      <th>seasonal</th>\n      <th>snl</th>\n    </tr>\n  </thead>\n  <tbody>\n    <tr>\n      <th>0</th>\n      <td>arriba   baked winter squash mexican style</td>\n      <td>137739</td>\n      <td>55</td>\n      <td>47892</td>\n      <td>2005-09-16</td>\n      <td>[60-minutes-or-less, time-to-make, course, mai...</td>\n      <td>[51.5, 0.0, 13.0, 0.0, 2.0, 0.0, 4.0]</td>\n      <td>11</td>\n      <td>[make a choice and proceed with recipe, depend...</td>\n      <td>autumn is my favorite time of year to cook! th...</td>\n      <td>[winter squash, mexican seasoning, mixed spice...</td>\n      <td>7</td>\n      <td>1</td>\n      <td>[winter squash]</td>\n      <td>[]</td>\n    </tr>\n    <tr>\n      <th>1</th>\n      <td>a bit different  breakfast pizza</td>\n      <td>31490</td>\n      <td>30</td>\n      <td>26278</td>\n      <td>2002-06-17</td>\n      <td>[30-minutes-or-less, time-to-make, course, mai...</td>\n      <td>[173.4, 18.0, 0.0, 17.0, 22.0, 35.0, 1.0]</td>\n      <td>9</td>\n      <td>[preheat oven to 425 degrees f, press dough in...</td>\n      <td>this recipe calls for the crust to be prebaked...</td>\n      <td>[prepared pizza crust, sausage patty, eggs, mi...</td>\n      <td>6</td>\n      <td>0</td>\n      <td>[]</td>\n      <td>[]</td>\n    </tr>\n    <tr>\n      <th>2</th>\n      <td>all in the kitchen  chili</td>\n      <td>112140</td>\n      <td>130</td>\n      <td>196586</td>\n      <td>2005-02-25</td>\n      <td>[time-to-make, course, preparation, main-dish,...</td>\n      <td>[269.8, 22.0, 32.0, 48.0, 39.0, 27.0, 5.0]</td>\n      <td>6</td>\n      <td>[brown ground beef in large pot, add chopped o...</td>\n      <td>this modified version of 'mom's' chili was a h...</td>\n      <td>[ground beef, yellow onions, diced tomatoes, t...</td>\n      <td>13</td>\n      <td>2</td>\n      <td>[]</td>\n      <td>[lettuce]</td>\n    </tr>\n    <tr>\n      <th>3</th>\n      <td>alouette  potatoes</td>\n      <td>59389</td>\n      <td>45</td>\n      <td>68585</td>\n      <td>2003-04-14</td>\n      <td>[60-minutes-or-less, time-to-make, course, mai...</td>\n      <td>[368.1, 17.0, 10.0, 2.0, 14.0, 8.0, 20.0]</td>\n      <td>11</td>\n      <td>[place potatoes in a large pot of lightly salt...</td>\n      <td>this is a super easy, great tasting, make ahea...</td>\n      <td>[spreadable cheese with garlic and herbs, new ...</td>\n      <td>11</td>\n      <td>5</td>\n      <td>[shallots]</td>\n      <td>[parsley, tarragon]</td>\n    </tr>\n    <tr>\n      <th>4</th>\n      <td>amish  tomato ketchup  for canning</td>\n      <td>44061</td>\n      <td>190</td>\n      <td>41706</td>\n      <td>2002-10-25</td>\n      <td>[weeknight, time-to-make, course, main-ingredi...</td>\n      <td>[352.9, 1.0, 337.0, 23.0, 3.0, 0.0, 28.0]</td>\n      <td>5</td>\n      <td>[mix all ingredients&amp; boil for 2 1 / 2 hours ,...</td>\n      <td>my dh's amish mother raised him on this recipe...</td>\n      <td>[tomato juice, apple cider vinegar, sugar, sal...</td>\n      <td>8</td>\n      <td>0</td>\n      <td>[]</td>\n      <td>[]</td>\n    </tr>\n    <tr>\n      <th>6</th>\n      <td>aww  marinated olives</td>\n      <td>25274</td>\n      <td>15</td>\n      <td>21730</td>\n      <td>2002-04-14</td>\n      <td>[15-minutes-or-less, time-to-make, course, mai...</td>\n      <td>[380.7, 53.0, 7.0, 24.0, 6.0, 24.0, 6.0]</td>\n      <td>4</td>\n      <td>[toast the fennel seeds and lightly crush them...</td>\n      <td>my italian mil was thoroughly impressed by my ...</td>\n      <td>[fennel seeds, green olives, ripe olives, garl...</td>\n      <td>9</td>\n      <td>2</td>\n      <td>[]</td>\n      <td>[garlic]</td>\n    </tr>\n    <tr>\n      <th>7</th>\n      <td>backyard style  barbecued ribs</td>\n      <td>67888</td>\n      <td>120</td>\n      <td>10404</td>\n      <td>2003-07-30</td>\n      <td>[weeknight, time-to-make, course, main-ingredi...</td>\n      <td>[1109.5, 83.0, 378.0, 275.0, 96.0, 86.0, 36.0]</td>\n      <td>10</td>\n      <td>[in a medium saucepan combine all the ingredie...</td>\n      <td>this recipe is posted by request and was origi...</td>\n      <td>[pork spareribs, soy sauce, fresh garlic, fres...</td>\n      <td>22</td>\n      <td>0</td>\n      <td>[]</td>\n      <td>[]</td>\n    </tr>\n    <tr>\n      <th>9</th>\n      <td>beat this  banana bread</td>\n      <td>75452</td>\n      <td>70</td>\n      <td>15892</td>\n      <td>2003-11-04</td>\n      <td>[weeknight, time-to-make, course, main-ingredi...</td>\n      <td>[2669.3, 160.0, 976.0, 107.0, 62.0, 310.0, 138.0]</td>\n      <td>12</td>\n      <td>[preheat oven to 350 degrees, butter two 9x5\" ...</td>\n      <td>from ann hodgman's</td>\n      <td>[sugar, unsalted butter, bananas, eggs, fresh ...</td>\n      <td>9</td>\n      <td>1</td>\n      <td>[bananas]</td>\n      <td>[]</td>\n    </tr>\n    <tr>\n      <th>10</th>\n      <td>berry  good sandwich spread</td>\n      <td>109439</td>\n      <td>5</td>\n      <td>49168</td>\n      <td>2005-01-25</td>\n      <td>[15-minutes-or-less, time-to-make, course, pre...</td>\n      <td>[79.2, 3.0, 58.0, 0.0, 0.0, 6.0, 5.0]</td>\n      <td>2</td>\n      <td>[in medium size bowl , coarsely mash cranberry...</td>\n      <td>horseradish is one of my favorite condiments a...</td>\n      <td>[whole berry cranberry sauce, sour cream, prep...</td>\n      <td>3</td>\n      <td>0</td>\n      <td>[]</td>\n      <td>[]</td>\n    </tr>\n    <tr>\n      <th>11</th>\n      <td>better than sex  strawberries</td>\n      <td>42198</td>\n      <td>1460</td>\n      <td>41531</td>\n      <td>2002-10-03</td>\n      <td>[weeknight, time-to-make, course, main-ingredi...</td>\n      <td>[734.1, 66.0, 199.0, 10.0, 10.0, 117.0, 28.0]</td>\n      <td>8</td>\n      <td>[crush vanilla wafers into fine crumbs and lin...</td>\n      <td>simple but sexy. this was in my local newspape...</td>\n      <td>[vanilla wafers, butter, powdered sugar, eggs,...</td>\n      <td>7</td>\n      <td>0</td>\n      <td>[]</td>\n      <td>[]</td>\n    </tr>\n    <tr>\n      <th>12</th>\n      <td>better then bush s  baked beans</td>\n      <td>67547</td>\n      <td>2970</td>\n      <td>85627</td>\n      <td>2003-07-26</td>\n      <td>[weeknight, time-to-make, course, main-ingredi...</td>\n      <td>[462.4, 28.0, 214.0, 69.0, 14.0, 29.0, 23.0]</td>\n      <td>9</td>\n      <td>[in a very large sauce pan cover the beans and...</td>\n      <td>i'd have to say that this is a labor of love d...</td>\n      <td>[great northern bean, chicken bouillon cubes, ...</td>\n      <td>13</td>\n      <td>0</td>\n      <td>[]</td>\n      <td>[]</td>\n    </tr>\n    <tr>\n      <th>13</th>\n      <td>boat house  collard greens</td>\n      <td>107517</td>\n      <td>525</td>\n      <td>137696</td>\n      <td>2005-01-03</td>\n      <td>[time-to-make, main-ingredient, preparation, v...</td>\n      <td>[315.8, 0.0, 202.0, 9.0, 6.0, 0.0, 21.0]</td>\n      <td>7</td>\n      <td>[put prepared greens in large pot, add water, ...</td>\n      <td>my boss gave me this recipe several years ago....</td>\n      <td>[collard greens, brown sugar, molasses, hot sa...</td>\n      <td>7</td>\n      <td>2</td>\n      <td>[]</td>\n      <td>[collard greens]</td>\n    </tr>\n    <tr>\n      <th>14</th>\n      <td>calm your nerves  tonic</td>\n      <td>39959</td>\n      <td>5</td>\n      <td>37449</td>\n      <td>2002-09-10</td>\n      <td>[15-minutes-or-less, time-to-make, preparation...</td>\n      <td>[8.2, 0.0, 0.0, 0.0, 1.0, 0.0, 0.0]</td>\n      <td>6</td>\n      <td>[combine herbs, dosage: one-half teaspoonful m...</td>\n      <td>this will prove a blessing to everyone who tak...</td>\n      <td>[gentian root, scullcap herb, burnet root, woo...</td>\n      <td>5</td>\n      <td>0</td>\n      <td>[]</td>\n      <td>[]</td>\n    </tr>\n    <tr>\n      <th>15</th>\n      <td>chicken lickin  good  pork chops</td>\n      <td>63986</td>\n      <td>500</td>\n      <td>14664</td>\n      <td>2003-06-06</td>\n      <td>[weeknight, time-to-make, course, main-ingredi...</td>\n      <td>[105.7, 8.0, 0.0, 26.0, 5.0, 4.0, 3.0]</td>\n      <td>5</td>\n      <td>[dredge pork chops in mixture of flour , salt ...</td>\n      <td>here's and old standby i enjoy from time to ti...</td>\n      <td>[lean pork chops, flour, salt, dry mustard, ga...</td>\n      <td>7</td>\n      <td>0</td>\n      <td>[]</td>\n      <td>[]</td>\n    </tr>\n    <tr>\n      <th>16</th>\n      <td>chile rellenos</td>\n      <td>43026</td>\n      <td>45</td>\n      <td>52268</td>\n      <td>2002-10-14</td>\n      <td>[60-minutes-or-less, time-to-make, course, mai...</td>\n      <td>[94.0, 10.0, 0.0, 11.0, 11.0, 21.0, 0.0]</td>\n      <td>9</td>\n      <td>[drain green chiles, sprinkle cornstarch on sh...</td>\n      <td>a favorite from a local restaurant no longer i...</td>\n      <td>[egg roll wrap, whole green chilies, cheese, c...</td>\n      <td>5</td>\n      <td>0</td>\n      <td>[]</td>\n      <td>[]</td>\n    </tr>\n    <tr>\n      <th>17</th>\n      <td>chinese  candy</td>\n      <td>23933</td>\n      <td>15</td>\n      <td>35268</td>\n      <td>2002-03-29</td>\n      <td>[15-minutes-or-less, time-to-make, course, pre...</td>\n      <td>[232.7, 21.0, 77.0, 4.0, 6.0, 38.0, 8.0]</td>\n      <td>4</td>\n      <td>[melt butterscotch chips in heavy saucepan ove...</td>\n      <td>a little different, and oh so good. i include ...</td>\n      <td>[butterscotch chips, chinese noodles, salted p...</td>\n      <td>3</td>\n      <td>0</td>\n      <td>[]</td>\n      <td>[]</td>\n    </tr>\n    <tr>\n      <th>18</th>\n      <td>chinese  chop suey</td>\n      <td>8559</td>\n      <td>70</td>\n      <td>4481</td>\n      <td>2001-01-27</td>\n      <td>[weeknight, time-to-make, course, main-ingredi...</td>\n      <td>[395.4, 31.0, 20.0, 29.0, 51.0, 33.0, 8.0]</td>\n      <td>8</td>\n      <td>[brown ground meat and onion in a large pot, a...</td>\n      <td>easy one-pot dinner.</td>\n      <td>[celery, onion, ground pork, soy sauce, beef b...</td>\n      <td>7</td>\n      <td>1</td>\n      <td>[celery]</td>\n      <td>[]</td>\n    </tr>\n    <tr>\n      <th>19</th>\n      <td>cream  of cauliflower soup  vegan</td>\n      <td>23850</td>\n      <td>110</td>\n      <td>3288</td>\n      <td>2002-03-28</td>\n      <td>[lactose, weeknight, time-to-make, course, mai...</td>\n      <td>[174.2, 4.0, 24.0, 1.0, 15.0, 1.0, 10.0]</td>\n      <td>10</td>\n      <td>[heat the oil or margarine in a soup pot and a...</td>\n      <td>this is a dairy free</td>\n      <td>[canola oil, onion, garlic, cauliflower, potat...</td>\n      <td>16</td>\n      <td>6</td>\n      <td>[]</td>\n      <td>[garlic, cauliflower, potatoes]</td>\n    </tr>\n    <tr>\n      <th>20</th>\n      <td>cream  of spinach soup</td>\n      <td>76808</td>\n      <td>45</td>\n      <td>95743</td>\n      <td>2003-11-17</td>\n      <td>[60-minutes-or-less, time-to-make, course, mai...</td>\n      <td>[126.0, 11.0, 2.0, 14.0, 5.0, 23.0, 4.0]</td>\n      <td>9</td>\n      <td>[bring water and salt to a boil, cut the potat...</td>\n      <td>wonderful comfort food from rozanne gold, a fa...</td>\n      <td>[water, salt, boiling potatoes, fresh spinach ...</td>\n      <td>8</td>\n      <td>0</td>\n      <td>[]</td>\n      <td>[]</td>\n    </tr>\n    <tr>\n      <th>21</th>\n      <td>cream  of spinach soup  vegan</td>\n      <td>24701</td>\n      <td>55</td>\n      <td>3288</td>\n      <td>2002-04-08</td>\n      <td>[60-minutes-or-less, time-to-make, course, mai...</td>\n      <td>[64.8, 3.0, 13.0, 54.0, 4.0, 2.0, 3.0]</td>\n      <td>10</td>\n      <td>[in a 3 qt saucepan over medium high heat , sa...</td>\n      <td>thickened with a mix of cooked oats and vegies...</td>\n      <td>[onion, scallion, apple juice, olive oil, spin...</td>\n      <td>12</td>\n      <td>2</td>\n      <td>[spinach, celery]</td>\n      <td>[]</td>\n    </tr>\n    <tr>\n      <th>22</th>\n      <td>crispy crunchy  chicken</td>\n      <td>83873</td>\n      <td>35</td>\n      <td>108291</td>\n      <td>2004-02-13</td>\n      <td>[60-minutes-or-less, time-to-make, course, pre...</td>\n      <td>[335.8, 11.0, 2.0, 24.0, 64.0, 10.0, 10.0]</td>\n      <td>8</td>\n      <td>[combine soup , egg and seasoned salt in a bow...</td>\n      <td>delicious, crunchy fried chicken. this recipe ...</td>\n      <td>[boneless skinless chicken breast halves, cond...</td>\n      <td>10</td>\n      <td>0</td>\n      <td>[]</td>\n      <td>[]</td>\n    </tr>\n    <tr>\n      <th>23</th>\n      <td>deep fried dessert thingys</td>\n      <td>107699</td>\n      <td>20</td>\n      <td>158966</td>\n      <td>2005-01-05</td>\n      <td>[30-minutes-or-less, time-to-make, course, pre...</td>\n      <td>[1663.3, 221.0, 168.0, 66.0, 19.0, 158.0, 29.0]</td>\n      <td>20</td>\n      <td>[in a large bowl , mix flour , granulated suga...</td>\n      <td>my mother used to make this for us as a specia...</td>\n      <td>[all-purpose flour, granulated sugar, baking p...</td>\n      <td>13</td>\n      <td>0</td>\n      <td>[]</td>\n      <td>[]</td>\n    </tr>\n    <tr>\n      <th>24</th>\n      <td>easiest ever  hollandaise sauce</td>\n      <td>49262</td>\n      <td>25</td>\n      <td>64428</td>\n      <td>2002-12-19</td>\n      <td>[30-minutes-or-less, time-to-make, course, mai...</td>\n      <td>[1290.4, 213.0, 4.0, 53.0, 22.0, 417.0, 1.0]</td>\n      <td>7</td>\n      <td>[cut the butter into several pieces and bring ...</td>\n      <td>the secret to this easy hollandaise sauce is i...</td>\n      <td>[butter, lemon, juice of, salt, white pepper, ...</td>\n      <td>5</td>\n      <td>0</td>\n      <td>[]</td>\n      <td>[]</td>\n    </tr>\n    <tr>\n      <th>25</th>\n      <td>emotional balance  spice mixture</td>\n      <td>48156</td>\n      <td>10</td>\n      <td>6164</td>\n      <td>2002-12-09</td>\n      <td>[15-minutes-or-less, time-to-make, course, cui...</td>\n      <td>[182.7, 11.0, 4.0, 1.0, 13.0, 4.0, 10.0]</td>\n      <td>2</td>\n      <td>[mix the spices together and store in an airti...</td>\n      <td>really an effective spice blend...i got it in ...</td>\n      <td>[ground black pepper, ground ginger, ground co...</td>\n      <td>6</td>\n      <td>0</td>\n      <td>[]</td>\n      <td>[]</td>\n    </tr>\n    <tr>\n      <th>26</th>\n      <td>fool the meat eaters  chili</td>\n      <td>54272</td>\n      <td>40</td>\n      <td>40525</td>\n      <td>2003-02-17</td>\n      <td>[60-minutes-or-less, time-to-make, course, mai...</td>\n      <td>[295.6, 3.0, 56.0, 76.0, 32.0, 1.0, 18.0]</td>\n      <td>9</td>\n      <td>[rehydrate tvp if needed, spray or oil a large...</td>\n      <td>this recipe was adapted by my mother and mysel...</td>\n      <td>[vegetarian ground beef, garlic, onion, jalape...</td>\n      <td>12</td>\n      <td>3</td>\n      <td>[celery]</td>\n      <td>[garlic]</td>\n    </tr>\n  </tbody>\n</table>\n</div>"
     },
     "metadata": {},
     "execution_count": 68
    }
   ],
   "source": [
    "recipes_df"
   ]
  },
  {
   "cell_type": "code",
   "execution_count": null,
   "metadata": {},
   "outputs": [],
   "source": []
  }
 ],
 "metadata": {
  "language_info": {
   "codemirror_mode": {
    "name": "ipython",
    "version": 3
   },
   "file_extension": ".py",
   "mimetype": "text/x-python",
   "name": "python",
   "nbconvert_exporter": "python",
   "pygments_lexer": "ipython3",
   "version": "3.7.6-final"
  },
  "orig_nbformat": 2,
  "kernelspec": {
   "name": "python37664bitbaseconda66ad337704e04e7290b604b07f248736",
   "display_name": "Python 3.7.6 64-bit ('base': conda)"
  }
 },
 "nbformat": 4,
 "nbformat_minor": 2
}