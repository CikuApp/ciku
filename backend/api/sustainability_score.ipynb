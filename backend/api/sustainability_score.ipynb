{
 "cells": [
  {
   "cell_type": "code",
   "execution_count": 3,
   "metadata": {},
   "outputs": [],
   "source": [
    "import pandas as pd\n",
    "import numpy as np\n",
    "import json\n",
    "from ast import literal_eval\n",
    "from datetime import datetime\n"
   ]
  },
  {
   "cell_type": "code",
   "execution_count": 27,
   "metadata": {},
   "outputs": [],
   "source": [
    "df = pd.read_csv('../data/recipes/RAW_recipes.csv')\n",
    "df = df.dropna()\n",
    "df['tags'] = df['tags'].apply(lambda x: literal_eval(str(x)))\n",
    "df['ingredients'] = df['ingredients'].apply(lambda x: literal_eval(str(x)))\n",
    "df['steps'] = df['steps'].apply(lambda x: literal_eval(str(x)))\n",
    "\n",
    "season_df = pd.read_csv('../data/seasonality.csv')\n",
    "season_df['foods'] = season_df['foods'].apply(lambda x: literal_eval(str(x)))"
   ]
  },
  {
   "cell_type": "code",
   "execution_count": 30,
   "metadata": {},
   "outputs": [],
   "source": [
    "now = datetime.now()\n",
    "month_array = ['january', 'february', 'march', 'april', 'may', 'june', 'july',\\\n",
    "       'august', 'september', 'october', 'november', 'december']\n",
    "\n",
    "month = month_array[now.month-1]\n",
    "period = 'early' if now.day <= 15 else 'late'"
   ]
  },
  {
   "cell_type": "code",
   "execution_count": 31,
   "metadata": {},
   "outputs": [],
   "source": [
    "seasonal_and_local = season_df.query('month==\"{}\" & period==\"{}\"'.format(month, period))\n"
   ]
  },
  {
   "cell_type": "code",
   "execution_count": 32,
   "metadata": {},
   "outputs": [
    {
     "output_type": "execute_result",
     "data": {
      "text/plain": "          state  month period  \\\n7        alaska  april   late   \n31      alabama  april   late   \n55     arkansas  april   late   \n79      arizona  april   late   \n103  california  april   late   \n\n                                                 foods  \n7    [Chives, Mushrooms, Rosemary, Sage, Sprouts, T...  \n31   [Arugula, Asparagus, Beets, Bok Choy, Cabbage,...  \n55   [Arugula, Asparagus, Beets, Black Eyed Peas, C...  \n79   [Arugula, Asparagus, Cabbage, Carrots, Caulifl...  \n103  [Artichokes, Arugula, Asparagus, Avocados, Bee...  ",
      "text/html": "<div>\n<style scoped>\n    .dataframe tbody tr th:only-of-type {\n        vertical-align: middle;\n    }\n\n    .dataframe tbody tr th {\n        vertical-align: top;\n    }\n\n    .dataframe thead th {\n        text-align: right;\n    }\n</style>\n<table border=\"1\" class=\"dataframe\">\n  <thead>\n    <tr style=\"text-align: right;\">\n      <th></th>\n      <th>state</th>\n      <th>month</th>\n      <th>period</th>\n      <th>foods</th>\n    </tr>\n  </thead>\n  <tbody>\n    <tr>\n      <th>7</th>\n      <td>alaska</td>\n      <td>april</td>\n      <td>late</td>\n      <td>[Chives, Mushrooms, Rosemary, Sage, Sprouts, T...</td>\n    </tr>\n    <tr>\n      <th>31</th>\n      <td>alabama</td>\n      <td>april</td>\n      <td>late</td>\n      <td>[Arugula, Asparagus, Beets, Bok Choy, Cabbage,...</td>\n    </tr>\n    <tr>\n      <th>55</th>\n      <td>arkansas</td>\n      <td>april</td>\n      <td>late</td>\n      <td>[Arugula, Asparagus, Beets, Black Eyed Peas, C...</td>\n    </tr>\n    <tr>\n      <th>79</th>\n      <td>arizona</td>\n      <td>april</td>\n      <td>late</td>\n      <td>[Arugula, Asparagus, Cabbage, Carrots, Caulifl...</td>\n    </tr>\n    <tr>\n      <th>103</th>\n      <td>california</td>\n      <td>april</td>\n      <td>late</td>\n      <td>[Artichokes, Arugula, Asparagus, Avocados, Bee...</td>\n    </tr>\n  </tbody>\n</table>\n</div>"
     },
     "metadata": {},
     "execution_count": 32
    }
   ],
   "source": [
    "seasonal_and_local.head()"
   ]
  },
  {
   "cell_type": "code",
   "execution_count": 44,
   "metadata": {
    "tags": []
   },
   "outputs": [],
   "source": [
    "seasonal_set = set()\n",
    "for food_array in seasonal_and_local.foods:\n",
    "    for food_item in food_array:\n",
    "        curr_word = food_item.lower()\n",
    "        seasonal_set.add(curr_word)\n",
    "\n",
    "selected_state = 'arizona'\n",
    "snl_array = seasonal_and_local.query('state==\"{}\"'.format(selected_state)).iloc[0].foods"
   ]
  },
  {
   "cell_type": "code",
   "execution_count": 45,
   "metadata": {
    "tags": []
   },
   "outputs": [
    {
     "output_type": "stream",
     "name": "stdout",
     "text": "138 45160\n"
    }
   ],
   "source": [
    "full_food_set = set()\n",
    "count = 0\n",
    "for food_array in season_df.foods:\n",
    "    for food_item in food_array:\n",
    "        curr_word = food_item.lower()\n",
    "        full_food_set.add(curr_word)\n",
    "        count += 1\n",
    "print(len(full_food_set), count)"
   ]
  },
  {
   "cell_type": "markdown",
   "metadata": {},
   "source": [
    "Some notes:\n",
    "- Most foods seem to be seasonal right now (114/138) if we're looking at all states(April 2021)\n",
    "- We might need to think of a weighting for different foods (apples vs brocolli vs oregano) -> herbs may not count as much since it's everywhere"
   ]
  },
  {
   "cell_type": "markdown",
   "metadata": {},
   "source": [
    "## Getting sustainability score for recipes"
   ]
  },
  {
   "cell_type": "code",
   "execution_count": null,
   "metadata": {},
   "outputs": [],
   "source": []
  }
 ],
 "metadata": {
  "language_info": {
   "codemirror_mode": {
    "name": "ipython",
    "version": 3
   },
   "file_extension": ".py",
   "mimetype": "text/x-python",
   "name": "python",
   "nbconvert_exporter": "python",
   "pygments_lexer": "ipython3",
   "version": "3.7.6-final"
  },
  "orig_nbformat": 2,
  "kernelspec": {
   "name": "python37664bitbaseconda66ad337704e04e7290b604b07f248736",
   "display_name": "Python 3.7.6 64-bit ('base': conda)"
  }
 },
 "nbformat": 4,
 "nbformat_minor": 2
}